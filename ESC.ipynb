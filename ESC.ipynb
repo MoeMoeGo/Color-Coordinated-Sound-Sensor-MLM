{
 "cells": [
  {
   "cell_type": "code",
   "execution_count": 5,
   "metadata": {
    "id": "C-t1HGKKwliv"
   },
   "outputs": [],
   "source": [
    "import pandas as pd\n",
    "import librosa\n",
    "import librosa.display\n",
    "import matplotlib.pyplot as plt\n",
    "plt.style.use('ggplot')\n",
    "from PIL import Image\n",
    "import numpy as np\n",
    "from audiomentations import Compose, AddGaussianNoise, TimeStretch, Gain, PitchShift, RoomSimulator\n",
    "from tqdm import tqdm\n",
    "import tensorflow as tf\n",
    "import IPython.display as ipd"
   ]
  },
  {
   "cell_type": "code",
   "execution_count": 6,
   "metadata": {
    "colab": {
     "base_uri": "https://localhost:8080/",
     "height": 424
    },
    "id": "sjCrz4C4w1N1",
    "outputId": "db191860-add9-46e4-e564-86ae5be196e2"
   },
   "outputs": [],
   "source": [
    "metadata = pd.read_csv('./ESC-50-master/meta/esc50.csv')"
   ]
  },
  {
   "cell_type": "code",
   "execution_count": 41,
   "metadata": {},
   "outputs": [
    {
     "name": "stderr",
     "output_type": "stream",
     "text": [
      "C:\\Users\\MoeSleazy\\AppData\\Local\\Temp\\ipykernel_5720\\454172983.py:2: DeprecationWarning: DataFrameGroupBy.apply operated on the grouping columns. This behavior is deprecated, and in a future version of pandas the grouping columns will be excluded from the operation. Either pass `include_groups=False` to exclude the groupings or explicitly select the grouping columns after groupby to silence this warning.\n",
      "  test_df = metadata.groupby('target', group_keys=False).apply(lambda x: x.sample(8))\n",
      "100%|█████████████████████████████████████████████████████████████████████████████| 1600/1600 [00:02<00:00, 602.41it/s]\n",
      "100%|███████████████████████████████████████████████████████████████████████████████| 400/400 [00:00<00:00, 537.64it/s]\n"
     ]
    }
   ],
   "source": [
    "from sklearn.model_selection import train_test_split\n",
    "\n",
    "# Splitting the metadata into train and test sets\n",
    "train_df, test_df = train_test_split(metadata, test_size=0.2, stratify=metadata['target'])\n",
    "\n",
    "train_audio = []\n",
    "train_labels = []\n",
    "test_audio = []\n",
    "test_labels = []\n",
    "\n",
    "# Loading audio files for training set\n",
    "for i in tqdm(range(len(train_df))):\n",
    "    filename = train_df.iloc[i]['filename']\n",
    "    label = train_df.iloc[i]['target']\n",
    "    y, sr = librosa.load('ESC-50-master/audio/' + filename)\n",
    "    train_audio.append(y)\n",
    "    train_labels.append(label)\n",
    "\n",
    "# Loading audio files for test set\n",
    "for i in tqdm(range(len(test_df))):\n",
    "    filename = test_df.iloc[i]['filename']\n",
    "    label = test_df.iloc[i]['target']\n",
    "    file_path = 'C:/Users/MoeSleazy/Downloads/Environmental-Sound-Classification-main/Environmental-Sound-Classification-main/ESC-50-master/audio/' + filename\n",
    "    y, sr = librosa.load(file_path)  \n",
    "    test_audio.append(y)\n",
    "    test_labels.append(label)\n"
   ]
  },
  {
   "cell_type": "code",
   "execution_count": 45,
   "metadata": {},
   "outputs": [],
   "source": [
    "from sklearn.model_selection import train_test_split\n",
    "\n",
    "from tensorflow.keras.layers import Conv2D, MaxPooling2D, Dense, Dropout, Flatten, Activation, BatchNormalization\n",
    "from tensorflow.keras.models import Sequential\n",
    "from tensorflow.keras.callbacks import ReduceLROnPlateau, EarlyStopping\n",
    "\n",
    "# Callbacks\n",
    "rlronp = ReduceLROnPlateau(monitor=\"val_accuracy\", factor=0.5, patience=2, verbose=1)\n",
    "estop = EarlyStopping(monitor=\"val_accuracy\", patience=6, verbose=1, restore_best_weights=True)\n",
    "\n",
    "def build_model(input_shape):\n",
    "    # Create the model\n",
    "    model = Sequential()\n",
    "\n",
    "    # Add layers\n",
    "    model.add(BatchNormalization(axis=1, input_shape=input_shape))\n",
    "    model.add(Conv2D(32, kernel_size=3, activation=\"relu\", padding='same'))\n",
    "    model.add(MaxPooling2D(pool_size=(2, 2)))\n",
    "    model.add(Conv2D(64, kernel_size=3, activation=\"relu\", padding='same'))\n",
    "    model.add(MaxPooling2D(pool_size=(2, 2)))\n",
    "    model.add(Conv2D(128, kernel_size=3, activation=\"relu\", padding='same'))\n",
    "    model.add(MaxPooling2D(pool_size=(2, 2)))\n",
    "    model.add(Flatten())\n",
    "    model.add(Dense(128, activation='relu'))\n",
    "    model.add(Dropout(0.5))\n",
    "    model.add(Dense(50, activation=\"softmax\"))\n",
    "\n",
    "    # Compile the model\n",
    "    model.compile(optimizer='adam',\n",
    "                  loss='sparse_categorical_crossentropy',\n",
    "                  metrics=['accuracy'])\n",
    "    return model\n"
   ]
  },
  {
   "cell_type": "code",
   "execution_count": 46,
   "metadata": {
    "id": "8BUoPmtvyAaC",
    "scrolled": true
   },
   "outputs": [],
   "source": [
    "def run_experiment(make_spec, augment=0):\n",
    "    train_images = np.array([make_spec(clip, sr) for clip in train_audio])\n",
    "    test_images = np.array([make_spec(clip, sr) for clip in test_audio])\n",
    "\n",
    "    augmented_samples = int(len(train_audio) * augment)\n",
    "    if augment:\n",
    "        augmented_train_images = np.array([make_spec(audio_augment(samples=clip, sample_rate=sr), sr) for clip in train_audio[:augmented_samples]])\n",
    "        train_images = np.concatenate((train_images, augmented_train_images))\n",
    "\n",
    "    train_shape = (len(train_images), train_images[0].shape[0], train_images[0].shape[1], 1)\n",
    "    test_shape = (len(test_images), train_images[0].shape[0], train_images[0].shape[1], 1)\n",
    "    train_images = np.resize(train_images, train_shape)\n",
    "    test_images = np.resize(test_images, test_shape)\n",
    "\n",
    "    train_labels = np.array(train_labels + train_labels[:augmented_samples])\n",
    "    test_labels = np.array(test_labels)\n",
    "\n",
    "    model = build_model(train_shape[1:])\n",
    "\n",
    "    model.summary()\n",
    "\n",
    "    training_history = model.fit(train_images, train_labels, epochs=40, validation_data=(test_images, test_labels), callbacks=[rlronp, estop])\n",
    "\n",
    "    return training_history, estop\n"
   ]
  },
  {
   "cell_type": "code",
   "execution_count": 47,
   "metadata": {},
   "outputs": [],
   "source": [
    "from tensorflow.keras.layers import Conv2D, MaxPooling2D, Dense, Dropout, Flatten, Activation, BatchNormalization\n",
    "from tensorflow.keras.models import Sequential\n",
    "from tensorflow.keras.callbacks import ReduceLROnPlateau, EarlyStopping\n",
    "\n",
    "rlronp = ReduceLROnPlateau(monitor=\"val_accuracy\", factor=0.5, patience=2, verbose=1)\n",
    "estop = EarlyStopping(monitor=\"val_accuracy\", patience=8, verbose=1, restore_best_weights=True)\n",
    "\n",
    "def build_model(input_shape):\n",
    "    model = Sequential()\n",
    "\n",
    "    model.add(BatchNormalization(axis=1, input_shape=input_shape))\n",
    "    model.add(Conv2D(32, kernel_size=3, activation=\"relu\", padding='same'))  # Reduced number of filters to 32\n",
    "    model.add(MaxPooling2D(pool_size=(2, 2)))\n",
    "    model.add(Conv2D(64, kernel_size=3, activation=\"relu\", padding='same'))  # Reduced number of filters to 64\n",
    "    model.add(MaxPooling2D(pool_size=(2, 2)))\n",
    "    model.add(Conv2D(128, kernel_size=3, activation=\"relu\", padding='same'))  # Reduced number of filters to 128\n",
    "    model.add(MaxPooling2D(pool_size=(2, 2)))\n",
    "    model.add(Conv2D(128, kernel_size=3, activation=\"relu\", padding='same'))  # Reduced number of filters to 128\n",
    "    model.add(MaxPooling2D(pool_size=(2, 2)))\n",
    "    model.add(Flatten())\n",
    "    model.add(Dense(256, activation='relu'))\n",
    "    model.add(Dropout(0.5))\n",
    "    model.add(Dense(50, activation=\"softmax\"))\n",
    "\n",
    "    model.compile(optimizer='adam',\n",
    "                  loss='sparse_categorical_crossentropy',\n",
    "                  metrics=['accuracy'])\n",
    "    return model"
   ]
  },
  {
   "cell_type": "code",
   "execution_count": 48,
   "metadata": {
    "id": "MvitOfEdXpzi"
   },
   "outputs": [],
   "source": [
    "def plot_curves(history, estop=None):\n",
    "\n",
    "    fig, ax = plt.subplots(nrows=1, ncols=2, figsize=(15, 6))\n",
    "\n",
    "    ax[0].plot(history.history['accuracy'], label='Training Accuracy', color='blue', linestyle='-')\n",
    "    ax[0].plot(history.history['val_accuracy'], label='Validation Accuracy', color='green', linestyle='--')\n",
    "    ax[0].set_title('Model Accuracy')\n",
    "    ax[0].set_ylim([0, 1])\n",
    "    ax[0].set_ylabel('Accuracy')\n",
    "    ax[0].set_xlabel('Epoch')\n",
    "    ax[0].legend(loc='lower right')\n",
    "\n",
    "    ax[1].plot(history.history['loss'], label='Training Loss', color='red', linestyle='-')\n",
    "    ax[1].plot(history.history['val_loss'], label='Validation Loss', color='orange', linestyle='--')\n",
    "    ax[1].set_title('Model Loss')\n",
    "    ax[1].set_ylabel('Loss')\n",
    "    ax[1].set_xlabel('Epoch')\n",
    "    ax[1].legend(loc='upper right')\n",
    "\n",
    "    if estop:\n",
    "        best_epoch = estop.stopped_epoch - estop.patience\n",
    "        ax[0].plot(best_epoch, history.history['accuracy'][best_epoch], marker='o', color='gold', ms=8)\n",
    "        ax[0].plot(best_epoch, history.history['val_accuracy'][best_epoch], marker='o', color='gold', ms=8)\n",
    "        ax[1].plot(best_epoch, history.history['loss'][best_epoch], marker='o', color='gold', ms=8)\n",
    "        ax[1].plot(best_epoch, history.history['val_loss'][best_epoch], marker='o', color='gold', ms=8)\n",
    "\n",
    "    return fig\n"
   ]
  },
  {
   "cell_type": "code",
   "execution_count": 49,
   "metadata": {
    "colab": {
     "base_uri": "https://localhost:8080/"
    },
    "id": "I2TI2R3u9Bc2",
    "outputId": "03145e0c-f1a6-457d-95af-967825726030"
   },
   "outputs": [],
   "source": [
    "\n",
    "def generate_mel_spectrogram(y,sr):\n",
    "    melspec = librosa.feature.melspectrogram(y=y, sr=sr, n_fft=2048, hop_length=512, n_mels=128)\n",
    "    melspec = librosa.power_to_db(melspec, ref=np.max)\n",
    "    return melspec\n"
   ]
  },
  {
   "cell_type": "code",
   "execution_count": 50,
   "metadata": {
    "id": "exj76JtHzssW"
   },
   "outputs": [
    {
     "name": "stderr",
     "output_type": "stream",
     "text": [
      "C:\\Users\\MoeSleazy\\anaconda3\\lib\\site-packages\\keras\\src\\layers\\normalization\\batch_normalization.py:143: UserWarning: Do not pass an `input_shape`/`input_dim` argument to a layer. When using Sequential models, prefer using an `Input(shape)` object as the first layer in the model instead.\n",
      "  super().__init__(**kwargs)\n"
     ]
    },
    {
     "data": {
      "text/html": [
       "<pre style=\"white-space:pre;overflow-x:auto;line-height:normal;font-family:Menlo,'DejaVu Sans Mono',consolas,'Courier New',monospace\"><span style=\"font-weight: bold\">Model: \"sequential\"</span>\n",
       "</pre>\n"
      ],
      "text/plain": [
       "\u001b[1mModel: \"sequential\"\u001b[0m\n"
      ]
     },
     "metadata": {},
     "output_type": "display_data"
    },
    {
     "data": {
      "text/html": [
       "<pre style=\"white-space:pre;overflow-x:auto;line-height:normal;font-family:Menlo,'DejaVu Sans Mono',consolas,'Courier New',monospace\">┏━━━━━━━━━━━━━━━━━━━━━━━━━━━━━━━━━━━━━━┳━━━━━━━━━━━━━━━━━━━━━━━━━━━━━┳━━━━━━━━━━━━━━━━━┓\n",
       "┃<span style=\"font-weight: bold\"> Layer (type)                         </span>┃<span style=\"font-weight: bold\"> Output Shape                </span>┃<span style=\"font-weight: bold\">         Param # </span>┃\n",
       "┡━━━━━━━━━━━━━━━━━━━━━━━━━━━━━━━━━━━━━━╇━━━━━━━━━━━━━━━━━━━━━━━━━━━━━╇━━━━━━━━━━━━━━━━━┩\n",
       "│ batch_normalization                  │ (<span style=\"color: #00d7ff; text-decoration-color: #00d7ff\">None</span>, <span style=\"color: #00af00; text-decoration-color: #00af00\">128</span>, <span style=\"color: #00af00; text-decoration-color: #00af00\">216</span>, <span style=\"color: #00af00; text-decoration-color: #00af00\">1</span>)         │             <span style=\"color: #00af00; text-decoration-color: #00af00\">512</span> │\n",
       "│ (<span style=\"color: #0087ff; text-decoration-color: #0087ff\">BatchNormalization</span>)                 │                             │                 │\n",
       "├──────────────────────────────────────┼─────────────────────────────┼─────────────────┤\n",
       "│ conv2d (<span style=\"color: #0087ff; text-decoration-color: #0087ff\">Conv2D</span>)                      │ (<span style=\"color: #00d7ff; text-decoration-color: #00d7ff\">None</span>, <span style=\"color: #00af00; text-decoration-color: #00af00\">128</span>, <span style=\"color: #00af00; text-decoration-color: #00af00\">216</span>, <span style=\"color: #00af00; text-decoration-color: #00af00\">64</span>)        │             <span style=\"color: #00af00; text-decoration-color: #00af00\">640</span> │\n",
       "├──────────────────────────────────────┼─────────────────────────────┼─────────────────┤\n",
       "│ max_pooling2d (<span style=\"color: #0087ff; text-decoration-color: #0087ff\">MaxPooling2D</span>)         │ (<span style=\"color: #00d7ff; text-decoration-color: #00d7ff\">None</span>, <span style=\"color: #00af00; text-decoration-color: #00af00\">64</span>, <span style=\"color: #00af00; text-decoration-color: #00af00\">108</span>, <span style=\"color: #00af00; text-decoration-color: #00af00\">64</span>)         │               <span style=\"color: #00af00; text-decoration-color: #00af00\">0</span> │\n",
       "├──────────────────────────────────────┼─────────────────────────────┼─────────────────┤\n",
       "│ conv2d_1 (<span style=\"color: #0087ff; text-decoration-color: #0087ff\">Conv2D</span>)                    │ (<span style=\"color: #00d7ff; text-decoration-color: #00d7ff\">None</span>, <span style=\"color: #00af00; text-decoration-color: #00af00\">64</span>, <span style=\"color: #00af00; text-decoration-color: #00af00\">108</span>, <span style=\"color: #00af00; text-decoration-color: #00af00\">128</span>)        │          <span style=\"color: #00af00; text-decoration-color: #00af00\">73,856</span> │\n",
       "├──────────────────────────────────────┼─────────────────────────────┼─────────────────┤\n",
       "│ max_pooling2d_1 (<span style=\"color: #0087ff; text-decoration-color: #0087ff\">MaxPooling2D</span>)       │ (<span style=\"color: #00d7ff; text-decoration-color: #00d7ff\">None</span>, <span style=\"color: #00af00; text-decoration-color: #00af00\">32</span>, <span style=\"color: #00af00; text-decoration-color: #00af00\">54</span>, <span style=\"color: #00af00; text-decoration-color: #00af00\">128</span>)         │               <span style=\"color: #00af00; text-decoration-color: #00af00\">0</span> │\n",
       "├──────────────────────────────────────┼─────────────────────────────┼─────────────────┤\n",
       "│ conv2d_2 (<span style=\"color: #0087ff; text-decoration-color: #0087ff\">Conv2D</span>)                    │ (<span style=\"color: #00d7ff; text-decoration-color: #00d7ff\">None</span>, <span style=\"color: #00af00; text-decoration-color: #00af00\">32</span>, <span style=\"color: #00af00; text-decoration-color: #00af00\">54</span>, <span style=\"color: #00af00; text-decoration-color: #00af00\">256</span>)         │         <span style=\"color: #00af00; text-decoration-color: #00af00\">295,168</span> │\n",
       "├──────────────────────────────────────┼─────────────────────────────┼─────────────────┤\n",
       "│ max_pooling2d_2 (<span style=\"color: #0087ff; text-decoration-color: #0087ff\">MaxPooling2D</span>)       │ (<span style=\"color: #00d7ff; text-decoration-color: #00d7ff\">None</span>, <span style=\"color: #00af00; text-decoration-color: #00af00\">16</span>, <span style=\"color: #00af00; text-decoration-color: #00af00\">27</span>, <span style=\"color: #00af00; text-decoration-color: #00af00\">256</span>)         │               <span style=\"color: #00af00; text-decoration-color: #00af00\">0</span> │\n",
       "├──────────────────────────────────────┼─────────────────────────────┼─────────────────┤\n",
       "│ conv2d_3 (<span style=\"color: #0087ff; text-decoration-color: #0087ff\">Conv2D</span>)                    │ (<span style=\"color: #00d7ff; text-decoration-color: #00d7ff\">None</span>, <span style=\"color: #00af00; text-decoration-color: #00af00\">16</span>, <span style=\"color: #00af00; text-decoration-color: #00af00\">27</span>, <span style=\"color: #00af00; text-decoration-color: #00af00\">256</span>)         │         <span style=\"color: #00af00; text-decoration-color: #00af00\">590,080</span> │\n",
       "├──────────────────────────────────────┼─────────────────────────────┼─────────────────┤\n",
       "│ max_pooling2d_3 (<span style=\"color: #0087ff; text-decoration-color: #0087ff\">MaxPooling2D</span>)       │ (<span style=\"color: #00d7ff; text-decoration-color: #00d7ff\">None</span>, <span style=\"color: #00af00; text-decoration-color: #00af00\">8</span>, <span style=\"color: #00af00; text-decoration-color: #00af00\">13</span>, <span style=\"color: #00af00; text-decoration-color: #00af00\">256</span>)          │               <span style=\"color: #00af00; text-decoration-color: #00af00\">0</span> │\n",
       "├──────────────────────────────────────┼─────────────────────────────┼─────────────────┤\n",
       "│ flatten (<span style=\"color: #0087ff; text-decoration-color: #0087ff\">Flatten</span>)                    │ (<span style=\"color: #00d7ff; text-decoration-color: #00d7ff\">None</span>, <span style=\"color: #00af00; text-decoration-color: #00af00\">26624</span>)               │               <span style=\"color: #00af00; text-decoration-color: #00af00\">0</span> │\n",
       "├──────────────────────────────────────┼─────────────────────────────┼─────────────────┤\n",
       "│ dense (<span style=\"color: #0087ff; text-decoration-color: #0087ff\">Dense</span>)                        │ (<span style=\"color: #00d7ff; text-decoration-color: #00d7ff\">None</span>, <span style=\"color: #00af00; text-decoration-color: #00af00\">256</span>)                 │       <span style=\"color: #00af00; text-decoration-color: #00af00\">6,816,000</span> │\n",
       "├──────────────────────────────────────┼─────────────────────────────┼─────────────────┤\n",
       "│ dropout (<span style=\"color: #0087ff; text-decoration-color: #0087ff\">Dropout</span>)                    │ (<span style=\"color: #00d7ff; text-decoration-color: #00d7ff\">None</span>, <span style=\"color: #00af00; text-decoration-color: #00af00\">256</span>)                 │               <span style=\"color: #00af00; text-decoration-color: #00af00\">0</span> │\n",
       "├──────────────────────────────────────┼─────────────────────────────┼─────────────────┤\n",
       "│ dense_1 (<span style=\"color: #0087ff; text-decoration-color: #0087ff\">Dense</span>)                      │ (<span style=\"color: #00d7ff; text-decoration-color: #00d7ff\">None</span>, <span style=\"color: #00af00; text-decoration-color: #00af00\">50</span>)                  │          <span style=\"color: #00af00; text-decoration-color: #00af00\">12,850</span> │\n",
       "└──────────────────────────────────────┴─────────────────────────────┴─────────────────┘\n",
       "</pre>\n"
      ],
      "text/plain": [
       "┏━━━━━━━━━━━━━━━━━━━━━━━━━━━━━━━━━━━━━━┳━━━━━━━━━━━━━━━━━━━━━━━━━━━━━┳━━━━━━━━━━━━━━━━━┓\n",
       "┃\u001b[1m \u001b[0m\u001b[1mLayer (type)                        \u001b[0m\u001b[1m \u001b[0m┃\u001b[1m \u001b[0m\u001b[1mOutput Shape               \u001b[0m\u001b[1m \u001b[0m┃\u001b[1m \u001b[0m\u001b[1m        Param #\u001b[0m\u001b[1m \u001b[0m┃\n",
       "┡━━━━━━━━━━━━━━━━━━━━━━━━━━━━━━━━━━━━━━╇━━━━━━━━━━━━━━━━━━━━━━━━━━━━━╇━━━━━━━━━━━━━━━━━┩\n",
       "│ batch_normalization                  │ (\u001b[38;5;45mNone\u001b[0m, \u001b[38;5;34m128\u001b[0m, \u001b[38;5;34m216\u001b[0m, \u001b[38;5;34m1\u001b[0m)         │             \u001b[38;5;34m512\u001b[0m │\n",
       "│ (\u001b[38;5;33mBatchNormalization\u001b[0m)                 │                             │                 │\n",
       "├──────────────────────────────────────┼─────────────────────────────┼─────────────────┤\n",
       "│ conv2d (\u001b[38;5;33mConv2D\u001b[0m)                      │ (\u001b[38;5;45mNone\u001b[0m, \u001b[38;5;34m128\u001b[0m, \u001b[38;5;34m216\u001b[0m, \u001b[38;5;34m64\u001b[0m)        │             \u001b[38;5;34m640\u001b[0m │\n",
       "├──────────────────────────────────────┼─────────────────────────────┼─────────────────┤\n",
       "│ max_pooling2d (\u001b[38;5;33mMaxPooling2D\u001b[0m)         │ (\u001b[38;5;45mNone\u001b[0m, \u001b[38;5;34m64\u001b[0m, \u001b[38;5;34m108\u001b[0m, \u001b[38;5;34m64\u001b[0m)         │               \u001b[38;5;34m0\u001b[0m │\n",
       "├──────────────────────────────────────┼─────────────────────────────┼─────────────────┤\n",
       "│ conv2d_1 (\u001b[38;5;33mConv2D\u001b[0m)                    │ (\u001b[38;5;45mNone\u001b[0m, \u001b[38;5;34m64\u001b[0m, \u001b[38;5;34m108\u001b[0m, \u001b[38;5;34m128\u001b[0m)        │          \u001b[38;5;34m73,856\u001b[0m │\n",
       "├──────────────────────────────────────┼─────────────────────────────┼─────────────────┤\n",
       "│ max_pooling2d_1 (\u001b[38;5;33mMaxPooling2D\u001b[0m)       │ (\u001b[38;5;45mNone\u001b[0m, \u001b[38;5;34m32\u001b[0m, \u001b[38;5;34m54\u001b[0m, \u001b[38;5;34m128\u001b[0m)         │               \u001b[38;5;34m0\u001b[0m │\n",
       "├──────────────────────────────────────┼─────────────────────────────┼─────────────────┤\n",
       "│ conv2d_2 (\u001b[38;5;33mConv2D\u001b[0m)                    │ (\u001b[38;5;45mNone\u001b[0m, \u001b[38;5;34m32\u001b[0m, \u001b[38;5;34m54\u001b[0m, \u001b[38;5;34m256\u001b[0m)         │         \u001b[38;5;34m295,168\u001b[0m │\n",
       "├──────────────────────────────────────┼─────────────────────────────┼─────────────────┤\n",
       "│ max_pooling2d_2 (\u001b[38;5;33mMaxPooling2D\u001b[0m)       │ (\u001b[38;5;45mNone\u001b[0m, \u001b[38;5;34m16\u001b[0m, \u001b[38;5;34m27\u001b[0m, \u001b[38;5;34m256\u001b[0m)         │               \u001b[38;5;34m0\u001b[0m │\n",
       "├──────────────────────────────────────┼─────────────────────────────┼─────────────────┤\n",
       "│ conv2d_3 (\u001b[38;5;33mConv2D\u001b[0m)                    │ (\u001b[38;5;45mNone\u001b[0m, \u001b[38;5;34m16\u001b[0m, \u001b[38;5;34m27\u001b[0m, \u001b[38;5;34m256\u001b[0m)         │         \u001b[38;5;34m590,080\u001b[0m │\n",
       "├──────────────────────────────────────┼─────────────────────────────┼─────────────────┤\n",
       "│ max_pooling2d_3 (\u001b[38;5;33mMaxPooling2D\u001b[0m)       │ (\u001b[38;5;45mNone\u001b[0m, \u001b[38;5;34m8\u001b[0m, \u001b[38;5;34m13\u001b[0m, \u001b[38;5;34m256\u001b[0m)          │               \u001b[38;5;34m0\u001b[0m │\n",
       "├──────────────────────────────────────┼─────────────────────────────┼─────────────────┤\n",
       "│ flatten (\u001b[38;5;33mFlatten\u001b[0m)                    │ (\u001b[38;5;45mNone\u001b[0m, \u001b[38;5;34m26624\u001b[0m)               │               \u001b[38;5;34m0\u001b[0m │\n",
       "├──────────────────────────────────────┼─────────────────────────────┼─────────────────┤\n",
       "│ dense (\u001b[38;5;33mDense\u001b[0m)                        │ (\u001b[38;5;45mNone\u001b[0m, \u001b[38;5;34m256\u001b[0m)                 │       \u001b[38;5;34m6,816,000\u001b[0m │\n",
       "├──────────────────────────────────────┼─────────────────────────────┼─────────────────┤\n",
       "│ dropout (\u001b[38;5;33mDropout\u001b[0m)                    │ (\u001b[38;5;45mNone\u001b[0m, \u001b[38;5;34m256\u001b[0m)                 │               \u001b[38;5;34m0\u001b[0m │\n",
       "├──────────────────────────────────────┼─────────────────────────────┼─────────────────┤\n",
       "│ dense_1 (\u001b[38;5;33mDense\u001b[0m)                      │ (\u001b[38;5;45mNone\u001b[0m, \u001b[38;5;34m50\u001b[0m)                  │          \u001b[38;5;34m12,850\u001b[0m │\n",
       "└──────────────────────────────────────┴─────────────────────────────┴─────────────────┘\n"
      ]
     },
     "metadata": {},
     "output_type": "display_data"
    },
    {
     "data": {
      "text/html": [
       "<pre style=\"white-space:pre;overflow-x:auto;line-height:normal;font-family:Menlo,'DejaVu Sans Mono',consolas,'Courier New',monospace\"><span style=\"font-weight: bold\"> Total params: </span><span style=\"color: #00af00; text-decoration-color: #00af00\">7,789,106</span> (29.71 MB)\n",
       "</pre>\n"
      ],
      "text/plain": [
       "\u001b[1m Total params: \u001b[0m\u001b[38;5;34m7,789,106\u001b[0m (29.71 MB)\n"
      ]
     },
     "metadata": {},
     "output_type": "display_data"
    },
    {
     "data": {
      "text/html": [
       "<pre style=\"white-space:pre;overflow-x:auto;line-height:normal;font-family:Menlo,'DejaVu Sans Mono',consolas,'Courier New',monospace\"><span style=\"font-weight: bold\"> Trainable params: </span><span style=\"color: #00af00; text-decoration-color: #00af00\">7,788,850</span> (29.71 MB)\n",
       "</pre>\n"
      ],
      "text/plain": [
       "\u001b[1m Trainable params: \u001b[0m\u001b[38;5;34m7,788,850\u001b[0m (29.71 MB)\n"
      ]
     },
     "metadata": {},
     "output_type": "display_data"
    },
    {
     "data": {
      "text/html": [
       "<pre style=\"white-space:pre;overflow-x:auto;line-height:normal;font-family:Menlo,'DejaVu Sans Mono',consolas,'Courier New',monospace\"><span style=\"font-weight: bold\"> Non-trainable params: </span><span style=\"color: #00af00; text-decoration-color: #00af00\">256</span> (1.00 KB)\n",
       "</pre>\n"
      ],
      "text/plain": [
       "\u001b[1m Non-trainable params: \u001b[0m\u001b[38;5;34m256\u001b[0m (1.00 KB)\n"
      ]
     },
     "metadata": {},
     "output_type": "display_data"
    },
    {
     "name": "stdout",
     "output_type": "stream",
     "text": [
      "Epoch 1/40\n",
      "\u001b[1m63/63\u001b[0m \u001b[32m━━━━━━━━━━━━━━━━━━━━\u001b[0m\u001b[37m\u001b[0m \u001b[1m55s\u001b[0m 845ms/step - accuracy: 0.0386 - loss: 3.8728 - val_accuracy: 0.0425 - val_loss: 5.2727 - learning_rate: 0.0010\n",
      "Epoch 2/40\n",
      "\u001b[1m63/63\u001b[0m \u001b[32m━━━━━━━━━━━━━━━━━━━━\u001b[0m\u001b[37m\u001b[0m \u001b[1m53s\u001b[0m 841ms/step - accuracy: 0.1018 - loss: 3.4373 - val_accuracy: 0.1450 - val_loss: 3.2975 - learning_rate: 0.0010\n",
      "Epoch 3/40\n",
      "\u001b[1m63/63\u001b[0m \u001b[32m━━━━━━━━━━━━━━━━━━━━\u001b[0m\u001b[37m\u001b[0m \u001b[1m53s\u001b[0m 842ms/step - accuracy: 0.2434 - loss: 2.7028 - val_accuracy: 0.3475 - val_loss: 2.4121 - learning_rate: 0.0010\n",
      "Epoch 4/40\n",
      "\u001b[1m63/63\u001b[0m \u001b[32m━━━━━━━━━━━━━━━━━━━━\u001b[0m\u001b[37m\u001b[0m \u001b[1m53s\u001b[0m 847ms/step - accuracy: 0.3506 - loss: 2.2628 - val_accuracy: 0.4200 - val_loss: 2.0703 - learning_rate: 0.0010\n",
      "Epoch 5/40\n",
      "\u001b[1m63/63\u001b[0m \u001b[32m━━━━━━━━━━━━━━━━━━━━\u001b[0m\u001b[37m\u001b[0m \u001b[1m53s\u001b[0m 836ms/step - accuracy: 0.4574 - loss: 1.9571 - val_accuracy: 0.4875 - val_loss: 1.7968 - learning_rate: 0.0010\n",
      "Epoch 6/40\n",
      "\u001b[1m63/63\u001b[0m \u001b[32m━━━━━━━━━━━━━━━━━━━━\u001b[0m\u001b[37m\u001b[0m \u001b[1m53s\u001b[0m 846ms/step - accuracy: 0.5487 - loss: 1.5753 - val_accuracy: 0.5500 - val_loss: 1.5965 - learning_rate: 0.0010\n",
      "Epoch 7/40\n",
      "\u001b[1m63/63\u001b[0m \u001b[32m━━━━━━━━━━━━━━━━━━━━\u001b[0m\u001b[37m\u001b[0m \u001b[1m53s\u001b[0m 837ms/step - accuracy: 0.6234 - loss: 1.3111 - val_accuracy: 0.5525 - val_loss: 1.6078 - learning_rate: 0.0010\n",
      "Epoch 8/40\n",
      "\u001b[1m63/63\u001b[0m \u001b[32m━━━━━━━━━━━━━━━━━━━━\u001b[0m\u001b[37m\u001b[0m \u001b[1m53s\u001b[0m 844ms/step - accuracy: 0.6766 - loss: 1.0973 - val_accuracy: 0.5925 - val_loss: 1.5277 - learning_rate: 0.0010\n",
      "Epoch 9/40\n",
      "\u001b[1m63/63\u001b[0m \u001b[32m━━━━━━━━━━━━━━━━━━━━\u001b[0m\u001b[37m\u001b[0m \u001b[1m53s\u001b[0m 839ms/step - accuracy: 0.7137 - loss: 0.9461 - val_accuracy: 0.6025 - val_loss: 1.5784 - learning_rate: 0.0010\n",
      "Epoch 10/40\n",
      "\u001b[1m63/63\u001b[0m \u001b[32m━━━━━━━━━━━━━━━━━━━━\u001b[0m\u001b[37m\u001b[0m \u001b[1m54s\u001b[0m 859ms/step - accuracy: 0.7653 - loss: 0.8104 - val_accuracy: 0.6000 - val_loss: 1.6336 - learning_rate: 0.0010\n",
      "Epoch 11/40\n",
      "\u001b[1m63/63\u001b[0m \u001b[32m━━━━━━━━━━━━━━━━━━━━\u001b[0m\u001b[37m\u001b[0m \u001b[1m0s\u001b[0m 795ms/step - accuracy: 0.7958 - loss: 0.6798\n",
      "Epoch 11: ReduceLROnPlateau reducing learning rate to 0.0005000000237487257.\n",
      "\u001b[1m63/63\u001b[0m \u001b[32m━━━━━━━━━━━━━━━━━━━━\u001b[0m\u001b[37m\u001b[0m \u001b[1m53s\u001b[0m 833ms/step - accuracy: 0.7957 - loss: 0.6804 - val_accuracy: 0.5975 - val_loss: 1.6094 - learning_rate: 0.0010\n",
      "Epoch 12/40\n",
      "\u001b[1m63/63\u001b[0m \u001b[32m━━━━━━━━━━━━━━━━━━━━\u001b[0m\u001b[37m\u001b[0m \u001b[1m51s\u001b[0m 813ms/step - accuracy: 0.8273 - loss: 0.5729 - val_accuracy: 0.6425 - val_loss: 1.6979 - learning_rate: 5.0000e-04\n",
      "Epoch 13/40\n",
      "\u001b[1m63/63\u001b[0m \u001b[32m━━━━━━━━━━━━━━━━━━━━\u001b[0m\u001b[37m\u001b[0m \u001b[1m53s\u001b[0m 847ms/step - accuracy: 0.8563 - loss: 0.4563 - val_accuracy: 0.6750 - val_loss: 1.6431 - learning_rate: 5.0000e-04\n",
      "Epoch 14/40\n",
      "\u001b[1m63/63\u001b[0m \u001b[32m━━━━━━━━━━━━━━━━━━━━\u001b[0m\u001b[37m\u001b[0m \u001b[1m52s\u001b[0m 822ms/step - accuracy: 0.8679 - loss: 0.4040 - val_accuracy: 0.6575 - val_loss: 1.6416 - learning_rate: 5.0000e-04\n",
      "Epoch 15/40\n",
      "\u001b[1m63/63\u001b[0m \u001b[32m━━━━━━━━━━━━━━━━━━━━\u001b[0m\u001b[37m\u001b[0m \u001b[1m0s\u001b[0m 795ms/step - accuracy: 0.8837 - loss: 0.3856\n",
      "Epoch 15: ReduceLROnPlateau reducing learning rate to 0.0002500000118743628.\n",
      "\u001b[1m63/63\u001b[0m \u001b[32m━━━━━━━━━━━━━━━━━━━━\u001b[0m\u001b[37m\u001b[0m \u001b[1m53s\u001b[0m 840ms/step - accuracy: 0.8836 - loss: 0.3859 - val_accuracy: 0.6675 - val_loss: 1.6540 - learning_rate: 5.0000e-04\n",
      "Epoch 16/40\n",
      "\u001b[1m63/63\u001b[0m \u001b[32m━━━━━━━━━━━━━━━━━━━━\u001b[0m\u001b[37m\u001b[0m \u001b[1m53s\u001b[0m 843ms/step - accuracy: 0.8903 - loss: 0.3523 - val_accuracy: 0.6850 - val_loss: 1.6451 - learning_rate: 2.5000e-04\n",
      "Epoch 17/40\n",
      "\u001b[1m63/63\u001b[0m \u001b[32m━━━━━━━━━━━━━━━━━━━━\u001b[0m\u001b[37m\u001b[0m \u001b[1m56s\u001b[0m 887ms/step - accuracy: 0.9093 - loss: 0.2982 - val_accuracy: 0.7100 - val_loss: 1.6381 - learning_rate: 2.5000e-04\n",
      "Epoch 18/40\n",
      "\u001b[1m63/63\u001b[0m \u001b[32m━━━━━━━━━━━━━━━━━━━━\u001b[0m\u001b[37m\u001b[0m \u001b[1m54s\u001b[0m 865ms/step - accuracy: 0.9168 - loss: 0.2677 - val_accuracy: 0.6750 - val_loss: 1.7213 - learning_rate: 2.5000e-04\n",
      "Epoch 19/40\n",
      "\u001b[1m63/63\u001b[0m \u001b[32m━━━━━━━━━━━━━━━━━━━━\u001b[0m\u001b[37m\u001b[0m \u001b[1m0s\u001b[0m 927ms/step - accuracy: 0.9221 - loss: 0.2507\n",
      "Epoch 19: ReduceLROnPlateau reducing learning rate to 0.0001250000059371814.\n",
      "\u001b[1m63/63\u001b[0m \u001b[32m━━━━━━━━━━━━━━━━━━━━\u001b[0m\u001b[37m\u001b[0m \u001b[1m61s\u001b[0m 976ms/step - accuracy: 0.9221 - loss: 0.2506 - val_accuracy: 0.6925 - val_loss: 1.7323 - learning_rate: 2.5000e-04\n",
      "Epoch 20/40\n",
      "\u001b[1m63/63\u001b[0m \u001b[32m━━━━━━━━━━━━━━━━━━━━\u001b[0m\u001b[37m\u001b[0m \u001b[1m57s\u001b[0m 898ms/step - accuracy: 0.9194 - loss: 0.2509 - val_accuracy: 0.6900 - val_loss: 1.6954 - learning_rate: 1.2500e-04\n",
      "Epoch 21/40\n",
      "\u001b[1m63/63\u001b[0m \u001b[32m━━━━━━━━━━━━━━━━━━━━\u001b[0m\u001b[37m\u001b[0m \u001b[1m0s\u001b[0m 782ms/step - accuracy: 0.9191 - loss: 0.2571\n",
      "Epoch 21: ReduceLROnPlateau reducing learning rate to 6.25000029685907e-05.\n",
      "\u001b[1m63/63\u001b[0m \u001b[32m━━━━━━━━━━━━━━━━━━━━\u001b[0m\u001b[37m\u001b[0m \u001b[1m52s\u001b[0m 822ms/step - accuracy: 0.9191 - loss: 0.2572 - val_accuracy: 0.6900 - val_loss: 1.7217 - learning_rate: 1.2500e-04\n",
      "Epoch 22/40\n",
      "\u001b[1m63/63\u001b[0m \u001b[32m━━━━━━━━━━━━━━━━━━━━\u001b[0m\u001b[37m\u001b[0m \u001b[1m54s\u001b[0m 852ms/step - accuracy: 0.9438 - loss: 0.1996 - val_accuracy: 0.6950 - val_loss: 1.7264 - learning_rate: 6.2500e-05\n",
      "Epoch 23/40\n",
      "\u001b[1m63/63\u001b[0m \u001b[32m━━━━━━━━━━━━━━━━━━━━\u001b[0m\u001b[37m\u001b[0m \u001b[1m0s\u001b[0m 833ms/step - accuracy: 0.9373 - loss: 0.1908\n",
      "Epoch 23: ReduceLROnPlateau reducing learning rate to 3.125000148429535e-05.\n",
      "\u001b[1m63/63\u001b[0m \u001b[32m━━━━━━━━━━━━━━━━━━━━\u001b[0m\u001b[37m\u001b[0m \u001b[1m55s\u001b[0m 877ms/step - accuracy: 0.9372 - loss: 0.1910 - val_accuracy: 0.6900 - val_loss: 1.7487 - learning_rate: 6.2500e-05\n",
      "Epoch 24/40\n",
      "\u001b[1m63/63\u001b[0m \u001b[32m━━━━━━━━━━━━━━━━━━━━\u001b[0m\u001b[37m\u001b[0m \u001b[1m56s\u001b[0m 889ms/step - accuracy: 0.9392 - loss: 0.1851 - val_accuracy: 0.6925 - val_loss: 1.7506 - learning_rate: 3.1250e-05\n",
      "Epoch 25/40\n",
      "\u001b[1m63/63\u001b[0m \u001b[32m━━━━━━━━━━━━━━━━━━━━\u001b[0m\u001b[37m\u001b[0m \u001b[1m0s\u001b[0m 838ms/step - accuracy: 0.9334 - loss: 0.1956\n",
      "Epoch 25: ReduceLROnPlateau reducing learning rate to 1.5625000742147677e-05.\n",
      "\u001b[1m63/63\u001b[0m \u001b[32m━━━━━━━━━━━━━━━━━━━━\u001b[0m\u001b[37m\u001b[0m \u001b[1m55s\u001b[0m 878ms/step - accuracy: 0.9336 - loss: 0.1955 - val_accuracy: 0.6950 - val_loss: 1.7569 - learning_rate: 3.1250e-05\n",
      "Epoch 25: early stopping\n",
      "Restoring model weights from the end of the best epoch: 17.\n"
     ]
    },
    {
     "name": "stderr",
     "output_type": "stream",
     "text": [
      "C:\\Users\\MoeSleazy\\AppData\\Local\\Temp\\ipykernel_5720\\2074145140.py:9: UserWarning: FigureCanvasAgg is non-interactive, and thus cannot be shown\n",
      "  plot_curves(history_ex_2, estop=estop_ex_2).show()\n"
     ]
    },
    {
     "name": "stdout",
     "output_type": "stream",
     "text": [
      "Model saved to: ./model/experiment_2_model.keras\n"
     ]
    },
    {
     "data": {
      "image/png": "[encoded data removed]",
      "text/plain": [
       "<Figure size 2000x1000 with 2 Axes>"
      ]
     },
     "metadata": {},
     "output_type": "display_data"
    }
   ],
   "source": [
    "# Train the model and get the history and early stopping callback\n",
    "history_ex_2, estop_ex_2 = run_experiment(generate_mel_spectrogram, augment=0.25)\n",
    "\n",
    "# Save the trained model\n",
    "model_file_path = './model/experiment_2_model.keras'\n",
    "history_ex_2.model.save(model_file_path)\n",
    "\n",
    "# Plot training curves (optional)\n",
    "plot_curves(history_ex_2, estop=estop_ex_2).show()\n",
    "\n",
    "# Print a message indicating that the model has been saved\n",
    "print(f\"Model saved to: {model_file_path}\")\n"
   ]
  },
  {
   "cell_type": "code",
   "execution_count": 68,
   "metadata": {},
   "outputs": [
    {
     "name": "stdout",
     "output_type": "stream",
     "text": [
      "Model Summary:\n"
     ]
    },
    {
     "data": {
      "text/html": [
       "<pre style=\"white-space:pre;overflow-x:auto;line-height:normal;font-family:Menlo,'DejaVu Sans Mono',consolas,'Courier New',monospace\"><span style=\"font-weight: bold\">Model: \"sequential\"</span>\n",
       "</pre>\n"
      ],
      "text/plain": [
       "\u001b[1mModel: \"sequential\"\u001b[0m\n"
      ]
     },
     "metadata": {},
     "output_type": "display_data"
    },
    {
     "data": {
      "text/html": [
       "<pre style=\"white-space:pre;overflow-x:auto;line-height:normal;font-family:Menlo,'DejaVu Sans Mono',consolas,'Courier New',monospace\">┏━━━━━━━━━━━━━━━━━━━━━━━━━━━━━━━━━━━━━━┳━━━━━━━━━━━━━━━━━━━━━━━━━━━━━┳━━━━━━━━━━━━━━━━━┓\n",
       "┃<span style=\"font-weight: bold\"> Layer (type)                         </span>┃<span style=\"font-weight: bold\"> Output Shape                </span>┃<span style=\"font-weight: bold\">         Param # </span>┃\n",
       "┡━━━━━━━━━━━━━━━━━━━━━━━━━━━━━━━━━━━━━━╇━━━━━━━━━━━━━━━━━━━━━━━━━━━━━╇━━━━━━━━━━━━━━━━━┩\n",
       "│ batch_normalization                  │ (<span style=\"color: #00d7ff; text-decoration-color: #00d7ff\">None</span>, <span style=\"color: #00af00; text-decoration-color: #00af00\">128</span>, <span style=\"color: #00af00; text-decoration-color: #00af00\">216</span>, <span style=\"color: #00af00; text-decoration-color: #00af00\">1</span>)         │             <span style=\"color: #00af00; text-decoration-color: #00af00\">512</span> │\n",
       "│ (<span style=\"color: #0087ff; text-decoration-color: #0087ff\">BatchNormalization</span>)                 │                             │                 │\n",
       "├──────────────────────────────────────┼─────────────────────────────┼─────────────────┤\n",
       "│ conv2d (<span style=\"color: #0087ff; text-decoration-color: #0087ff\">Conv2D</span>)                      │ (<span style=\"color: #00d7ff; text-decoration-color: #00d7ff\">None</span>, <span style=\"color: #00af00; text-decoration-color: #00af00\">128</span>, <span style=\"color: #00af00; text-decoration-color: #00af00\">216</span>, <span style=\"color: #00af00; text-decoration-color: #00af00\">64</span>)        │             <span style=\"color: #00af00; text-decoration-color: #00af00\">640</span> │\n",
       "├──────────────────────────────────────┼─────────────────────────────┼─────────────────┤\n",
       "│ max_pooling2d (<span style=\"color: #0087ff; text-decoration-color: #0087ff\">MaxPooling2D</span>)         │ (<span style=\"color: #00d7ff; text-decoration-color: #00d7ff\">None</span>, <span style=\"color: #00af00; text-decoration-color: #00af00\">64</span>, <span style=\"color: #00af00; text-decoration-color: #00af00\">108</span>, <span style=\"color: #00af00; text-decoration-color: #00af00\">64</span>)         │               <span style=\"color: #00af00; text-decoration-color: #00af00\">0</span> │\n",
       "├──────────────────────────────────────┼─────────────────────────────┼─────────────────┤\n",
       "│ conv2d_1 (<span style=\"color: #0087ff; text-decoration-color: #0087ff\">Conv2D</span>)                    │ (<span style=\"color: #00d7ff; text-decoration-color: #00d7ff\">None</span>, <span style=\"color: #00af00; text-decoration-color: #00af00\">64</span>, <span style=\"color: #00af00; text-decoration-color: #00af00\">108</span>, <span style=\"color: #00af00; text-decoration-color: #00af00\">128</span>)        │          <span style=\"color: #00af00; text-decoration-color: #00af00\">73,856</span> │\n",
       "├──────────────────────────────────────┼─────────────────────────────┼─────────────────┤\n",
       "│ max_pooling2d_1 (<span style=\"color: #0087ff; text-decoration-color: #0087ff\">MaxPooling2D</span>)       │ (<span style=\"color: #00d7ff; text-decoration-color: #00d7ff\">None</span>, <span style=\"color: #00af00; text-decoration-color: #00af00\">32</span>, <span style=\"color: #00af00; text-decoration-color: #00af00\">54</span>, <span style=\"color: #00af00; text-decoration-color: #00af00\">128</span>)         │               <span style=\"color: #00af00; text-decoration-color: #00af00\">0</span> │\n",
       "├──────────────────────────────────────┼─────────────────────────────┼─────────────────┤\n",
       "│ conv2d_2 (<span style=\"color: #0087ff; text-decoration-color: #0087ff\">Conv2D</span>)                    │ (<span style=\"color: #00d7ff; text-decoration-color: #00d7ff\">None</span>, <span style=\"color: #00af00; text-decoration-color: #00af00\">32</span>, <span style=\"color: #00af00; text-decoration-color: #00af00\">54</span>, <span style=\"color: #00af00; text-decoration-color: #00af00\">256</span>)         │         <span style=\"color: #00af00; text-decoration-color: #00af00\">295,168</span> │\n",
       "├──────────────────────────────────────┼─────────────────────────────┼─────────────────┤\n",
       "│ max_pooling2d_2 (<span style=\"color: #0087ff; text-decoration-color: #0087ff\">MaxPooling2D</span>)       │ (<span style=\"color: #00d7ff; text-decoration-color: #00d7ff\">None</span>, <span style=\"color: #00af00; text-decoration-color: #00af00\">16</span>, <span style=\"color: #00af00; text-decoration-color: #00af00\">27</span>, <span style=\"color: #00af00; text-decoration-color: #00af00\">256</span>)         │               <span style=\"color: #00af00; text-decoration-color: #00af00\">0</span> │\n",
       "├──────────────────────────────────────┼─────────────────────────────┼─────────────────┤\n",
       "│ conv2d_3 (<span style=\"color: #0087ff; text-decoration-color: #0087ff\">Conv2D</span>)                    │ (<span style=\"color: #00d7ff; text-decoration-color: #00d7ff\">None</span>, <span style=\"color: #00af00; text-decoration-color: #00af00\">16</span>, <span style=\"color: #00af00; text-decoration-color: #00af00\">27</span>, <span style=\"color: #00af00; text-decoration-color: #00af00\">256</span>)         │         <span style=\"color: #00af00; text-decoration-color: #00af00\">590,080</span> │\n",
       "├──────────────────────────────────────┼─────────────────────────────┼─────────────────┤\n",
       "│ max_pooling2d_3 (<span style=\"color: #0087ff; text-decoration-color: #0087ff\">MaxPooling2D</span>)       │ (<span style=\"color: #00d7ff; text-decoration-color: #00d7ff\">None</span>, <span style=\"color: #00af00; text-decoration-color: #00af00\">8</span>, <span style=\"color: #00af00; text-decoration-color: #00af00\">13</span>, <span style=\"color: #00af00; text-decoration-color: #00af00\">256</span>)          │               <span style=\"color: #00af00; text-decoration-color: #00af00\">0</span> │\n",
       "├──────────────────────────────────────┼─────────────────────────────┼─────────────────┤\n",
       "│ flatten (<span style=\"color: #0087ff; text-decoration-color: #0087ff\">Flatten</span>)                    │ (<span style=\"color: #00d7ff; text-decoration-color: #00d7ff\">None</span>, <span style=\"color: #00af00; text-decoration-color: #00af00\">26624</span>)               │               <span style=\"color: #00af00; text-decoration-color: #00af00\">0</span> │\n",
       "├──────────────────────────────────────┼─────────────────────────────┼─────────────────┤\n",
       "│ dense (<span style=\"color: #0087ff; text-decoration-color: #0087ff\">Dense</span>)                        │ (<span style=\"color: #00d7ff; text-decoration-color: #00d7ff\">None</span>, <span style=\"color: #00af00; text-decoration-color: #00af00\">256</span>)                 │       <span style=\"color: #00af00; text-decoration-color: #00af00\">6,816,000</span> │\n",
       "├──────────────────────────────────────┼─────────────────────────────┼─────────────────┤\n",
       "│ dropout (<span style=\"color: #0087ff; text-decoration-color: #0087ff\">Dropout</span>)                    │ (<span style=\"color: #00d7ff; text-decoration-color: #00d7ff\">None</span>, <span style=\"color: #00af00; text-decoration-color: #00af00\">256</span>)                 │               <span style=\"color: #00af00; text-decoration-color: #00af00\">0</span> │\n",
       "├──────────────────────────────────────┼─────────────────────────────┼─────────────────┤\n",
       "│ dense_1 (<span style=\"color: #0087ff; text-decoration-color: #0087ff\">Dense</span>)                      │ (<span style=\"color: #00d7ff; text-decoration-color: #00d7ff\">None</span>, <span style=\"color: #00af00; text-decoration-color: #00af00\">50</span>)                  │          <span style=\"color: #00af00; text-decoration-color: #00af00\">12,850</span> │\n",
       "└──────────────────────────────────────┴─────────────────────────────┴─────────────────┘\n",
       "</pre>\n"
      ],
      "text/plain": [
       "┏━━━━━━━━━━━━━━━━━━━━━━━━━━━━━━━━━━━━━━┳━━━━━━━━━━━━━━━━━━━━━━━━━━━━━┳━━━━━━━━━━━━━━━━━┓\n",
       "┃\u001b[1m \u001b[0m\u001b[1mLayer (type)                        \u001b[0m\u001b[1m \u001b[0m┃\u001b[1m \u001b[0m\u001b[1mOutput Shape               \u001b[0m\u001b[1m \u001b[0m┃\u001b[1m \u001b[0m\u001b[1m        Param #\u001b[0m\u001b[1m \u001b[0m┃\n",
       "┡━━━━━━━━━━━━━━━━━━━━━━━━━━━━━━━━━━━━━━╇━━━━━━━━━━━━━━━━━━━━━━━━━━━━━╇━━━━━━━━━━━━━━━━━┩\n",
       "│ batch_normalization                  │ (\u001b[38;5;45mNone\u001b[0m, \u001b[38;5;34m128\u001b[0m, \u001b[38;5;34m216\u001b[0m, \u001b[38;5;34m1\u001b[0m)         │             \u001b[38;5;34m512\u001b[0m │\n",
       "│ (\u001b[38;5;33mBatchNormalization\u001b[0m)                 │                             │                 │\n",
       "├──────────────────────────────────────┼─────────────────────────────┼─────────────────┤\n",
       "│ conv2d (\u001b[38;5;33mConv2D\u001b[0m)                      │ (\u001b[38;5;45mNone\u001b[0m, \u001b[38;5;34m128\u001b[0m, \u001b[38;5;34m216\u001b[0m, \u001b[38;5;34m64\u001b[0m)        │             \u001b[38;5;34m640\u001b[0m │\n",
       "├──────────────────────────────────────┼─────────────────────────────┼─────────────────┤\n",
       "│ max_pooling2d (\u001b[38;5;33mMaxPooling2D\u001b[0m)         │ (\u001b[38;5;45mNone\u001b[0m, \u001b[38;5;34m64\u001b[0m, \u001b[38;5;34m108\u001b[0m, \u001b[38;5;34m64\u001b[0m)         │               \u001b[38;5;34m0\u001b[0m │\n",
       "├──────────────────────────────────────┼─────────────────────────────┼─────────────────┤\n",
       "│ conv2d_1 (\u001b[38;5;33mConv2D\u001b[0m)                    │ (\u001b[38;5;45mNone\u001b[0m, \u001b[38;5;34m64\u001b[0m, \u001b[38;5;34m108\u001b[0m, \u001b[38;5;34m128\u001b[0m)        │          \u001b[38;5;34m73,856\u001b[0m │\n",
       "├──────────────────────────────────────┼─────────────────────────────┼─────────────────┤\n",
       "│ max_pooling2d_1 (\u001b[38;5;33mMaxPooling2D\u001b[0m)       │ (\u001b[38;5;45mNone\u001b[0m, \u001b[38;5;34m32\u001b[0m, \u001b[38;5;34m54\u001b[0m, \u001b[38;5;34m128\u001b[0m)         │               \u001b[38;5;34m0\u001b[0m │\n",
       "├──────────────────────────────────────┼─────────────────────────────┼─────────────────┤\n",
       "│ conv2d_2 (\u001b[38;5;33mConv2D\u001b[0m)                    │ (\u001b[38;5;45mNone\u001b[0m, \u001b[38;5;34m32\u001b[0m, \u001b[38;5;34m54\u001b[0m, \u001b[38;5;34m256\u001b[0m)         │         \u001b[38;5;34m295,168\u001b[0m │\n",
       "├──────────────────────────────────────┼─────────────────────────────┼─────────────────┤\n",
       "│ max_pooling2d_2 (\u001b[38;5;33mMaxPooling2D\u001b[0m)       │ (\u001b[38;5;45mNone\u001b[0m, \u001b[38;5;34m16\u001b[0m, \u001b[38;5;34m27\u001b[0m, \u001b[38;5;34m256\u001b[0m)         │               \u001b[38;5;34m0\u001b[0m │\n",
       "├──────────────────────────────────────┼─────────────────────────────┼─────────────────┤\n",
       "│ conv2d_3 (\u001b[38;5;33mConv2D\u001b[0m)                    │ (\u001b[38;5;45mNone\u001b[0m, \u001b[38;5;34m16\u001b[0m, \u001b[38;5;34m27\u001b[0m, \u001b[38;5;34m256\u001b[0m)         │         \u001b[38;5;34m590,080\u001b[0m │\n",
       "├──────────────────────────────────────┼─────────────────────────────┼─────────────────┤\n",
       "│ max_pooling2d_3 (\u001b[38;5;33mMaxPooling2D\u001b[0m)       │ (\u001b[38;5;45mNone\u001b[0m, \u001b[38;5;34m8\u001b[0m, \u001b[38;5;34m13\u001b[0m, \u001b[38;5;34m256\u001b[0m)          │               \u001b[38;5;34m0\u001b[0m │\n",
       "├──────────────────────────────────────┼─────────────────────────────┼─────────────────┤\n",
       "│ flatten (\u001b[38;5;33mFlatten\u001b[0m)                    │ (\u001b[38;5;45mNone\u001b[0m, \u001b[38;5;34m26624\u001b[0m)               │               \u001b[38;5;34m0\u001b[0m │\n",
       "├──────────────────────────────────────┼─────────────────────────────┼─────────────────┤\n",
       "│ dense (\u001b[38;5;33mDense\u001b[0m)                        │ (\u001b[38;5;45mNone\u001b[0m, \u001b[38;5;34m256\u001b[0m)                 │       \u001b[38;5;34m6,816,000\u001b[0m │\n",
       "├──────────────────────────────────────┼─────────────────────────────┼─────────────────┤\n",
       "│ dropout (\u001b[38;5;33mDropout\u001b[0m)                    │ (\u001b[38;5;45mNone\u001b[0m, \u001b[38;5;34m256\u001b[0m)                 │               \u001b[38;5;34m0\u001b[0m │\n",
       "├──────────────────────────────────────┼─────────────────────────────┼─────────────────┤\n",
       "│ dense_1 (\u001b[38;5;33mDense\u001b[0m)                      │ (\u001b[38;5;45mNone\u001b[0m, \u001b[38;5;34m50\u001b[0m)                  │          \u001b[38;5;34m12,850\u001b[0m │\n",
       "└──────────────────────────────────────┴─────────────────────────────┴─────────────────┘\n"
      ]
     },
     "metadata": {},
     "output_type": "display_data"
    },
    {
     "data": {
      "text/html": [
       "<pre style=\"white-space:pre;overflow-x:auto;line-height:normal;font-family:Menlo,'DejaVu Sans Mono',consolas,'Courier New',monospace\"><span style=\"font-weight: bold\"> Total params: </span><span style=\"color: #00af00; text-decoration-color: #00af00\">23,366,808</span> (89.14 MB)\n",
       "</pre>\n"
      ],
      "text/plain": [
       "\u001b[1m Total params: \u001b[0m\u001b[38;5;34m23,366,808\u001b[0m (89.14 MB)\n"
      ]
     },
     "metadata": {},
     "output_type": "display_data"
    },
    {
     "data": {
      "text/html": [
       "<pre style=\"white-space:pre;overflow-x:auto;line-height:normal;font-family:Menlo,'DejaVu Sans Mono',consolas,'Courier New',monospace\"><span style=\"font-weight: bold\"> Trainable params: </span><span style=\"color: #00af00; text-decoration-color: #00af00\">7,788,850</span> (29.71 MB)\n",
       "</pre>\n"
      ],
      "text/plain": [
       "\u001b[1m Trainable params: \u001b[0m\u001b[38;5;34m7,788,850\u001b[0m (29.71 MB)\n"
      ]
     },
     "metadata": {},
     "output_type": "display_data"
    },
    {
     "data": {
      "text/html": [
       "<pre style=\"white-space:pre;overflow-x:auto;line-height:normal;font-family:Menlo,'DejaVu Sans Mono',consolas,'Courier New',monospace\"><span style=\"font-weight: bold\"> Non-trainable params: </span><span style=\"color: #00af00; text-decoration-color: #00af00\">256</span> (1.00 KB)\n",
       "</pre>\n"
      ],
      "text/plain": [
       "\u001b[1m Non-trainable params: \u001b[0m\u001b[38;5;34m256\u001b[0m (1.00 KB)\n"
      ]
     },
     "metadata": {},
     "output_type": "display_data"
    },
    {
     "data": {
      "text/html": [
       "<pre style=\"white-space:pre;overflow-x:auto;line-height:normal;font-family:Menlo,'DejaVu Sans Mono',consolas,'Courier New',monospace\"><span style=\"font-weight: bold\"> Optimizer params: </span><span style=\"color: #00af00; text-decoration-color: #00af00\">15,577,702</span> (59.42 MB)\n",
       "</pre>\n"
      ],
      "text/plain": [
       "\u001b[1m Optimizer params: \u001b[0m\u001b[38;5;34m15,577,702\u001b[0m (59.42 MB)\n"
      ]
     },
     "metadata": {},
     "output_type": "display_data"
    },
    {
     "name": "stdout",
     "output_type": "stream",
     "text": [
      "None\n"
     ]
    }
   ],
   "source": [
    "from tensorflow.keras.models import load_model\n",
    "\n",
    "# Load the saved model\n",
    "loaded_model = load_model(model_file_path)\n",
    "\n",
    "# Print the summary of the loaded model\n",
    "print(\"Model Summary:\")\n",
    "print(loaded_model.summary())\n"
   ]
  },
  {
   "cell_type": "code",
   "execution_count": 54,
   "metadata": {},
   "outputs": [
    {
     "name": "stdout",
     "output_type": "stream",
     "text": [
      "Recording...\n",
      "Audio recorded and saved to output.wav\n"
     ]
    }
   ],
   "source": [
    "import sounddevice as sd\n",
    "import numpy as np\n",
    "import scipy.io.wavfile as wav\n",
    "\n",
    "# Function to record audio for 5 seconds\n",
    "def record_audio(duration, file_path):\n",
    "    print(\"Recording...\")\n",
    "    # Start recording\n",
    "    audio_data = sd.rec(int(duration * 44100), samplerate=44100, channels=1, dtype='int16')\n",
    "    # Wait for recording to complete\n",
    "    sd.wait()\n",
    "    # Save the recorded audio to a WAV file\n",
    "    wav.write(file_path, 44100, audio_data)\n",
    "    print(f\"Audio recorded and saved to {file_path}\")\n",
    "\n",
    "# Record a 5-second audio clip\n",
    "file_path = 'output.wav'\n",
    "record_audio(5, file_path)\n"
   ]
  },
  {
   "cell_type": "code",
   "execution_count": 8,
   "metadata": {
    "scrolled": true
   },
   "outputs": [
    {
     "name": "stdout",
     "output_type": "stream",
     "text": [
      "\u001b[1m1/1\u001b[0m \u001b[32m━━━━━━━━━━━━━━━━━━━━\u001b[0m\u001b[37m\u001b[0m \u001b[1m0s\u001b[0m 111ms/step\n",
      "Predicted Category: dog\n"
     ]
    }
   ],
   "source": [
    "import librosa\n",
    "import numpy as np\n",
    "import tensorflow as tf\n",
    "\n",
    "# Label dictionary to map class index to category\n",
    "labels_dict = {\n",
    "    0: 'dog', 14: 'chirping_birds', 36: 'vacuum_cleaner', 19: 'thunderstorm',\n",
    "    30: 'door_wood_knock', 34: 'can_opening', 9: 'crow', 22: 'clapping',\n",
    "    48: 'fireworks', 41: 'chainsaw', 47: 'airplane', 31: 'mouse_click',\n",
    "    17: 'pouring_water', 45: 'train', 8: 'sheep', 15: 'water_drops',\n",
    "    46: 'church_bells', 37: 'clock_alarm', 32: 'keyboard_typing', 16: 'wind',\n",
    "    25: 'footsteps', 4: 'frog', 3: 'cow', 27: 'brushing_teeth', 43: 'car_horn',\n",
    "    12: 'crackling_fire', 40: 'helicopter', 29: 'drinking_sipping', 10: 'rain',\n",
    "    7: 'insects', 26: 'laughing', 6: 'hen', 44: 'engine', 23: 'breathing',\n",
    "    20: 'crying_baby', 49: 'hand_saw', 24: 'coughing', 39: 'glass_breaking',\n",
    "    28: 'snoring', 18: 'toilet_flush', 2: 'pig', 35: 'washing_machine',\n",
    "    38: 'clock_tick', 21: 'sneezing', 1: 'rooster', 11: 'sea_waves', 42: 'siren',\n",
    "    5: 'cat', 33: 'door_wood_creaks', 13: 'crickets'\n",
    "}\n",
    "\n",
    "# Function to preprocess audio file into spectrogram\n",
    "def preprocess_audio_file(file_path):\n",
    "    # Load the audio file\n",
    "    y, sr = librosa.load(file_path)\n",
    "    # Generate mel spectrogram\n",
    "    melspec = librosa.feature.melspectrogram(y=y, sr=sr, n_fft=2048, hop_length=512, n_mels=128)\n",
    "    melspec = librosa.power_to_db(melspec, ref=np.max)\n",
    "    # Resize spectrogram to match the input shape of the model\n",
    "    shape = (1, melspec.shape[0], melspec.shape[1], 1)\n",
    "    melspec = np.resize(melspec, shape)\n",
    "    return melspec\n",
    "\n",
    "# Function to make predictions using the trained model\n",
    "def predict_with_model(model, file_path):\n",
    "    # Preprocess audio file\n",
    "    preprocessed_data = preprocess_audio_file(file_path)\n",
    "    # Make prediction using the trained model\n",
    "    prediction = model.predict(preprocessed_data)\n",
    "    # Get the predicted class index\n",
    "    predicted_class_index = np.argmax(prediction)\n",
    "    # Map the predicted class index to category using label dictionary\n",
    "    predicted_category = labels_dict.get(predicted_class_index, \"Unknown\")\n",
    "    return predicted_category\n",
    "\n",
    "# Load the trained model\n",
    "model_file_path = 'model/experiment_2_model.keras'\n",
    "model = tf.keras.models.load_model(model_file_path)\n",
    "\n",
    "# Test the model with new data (e.g., output.wav)\n",
    "file_path = 'output.wav'\n",
    "predicted_category = predict_with_model(model, file_path)\n",
    "print(\"Predicted Category:\", predicted_category)\n"
   ]
  },
  {
   "cell_type": "code",
   "execution_count": 83,
   "metadata": {},
   "outputs": [
    {
     "name": "stdout",
     "output_type": "stream",
     "text": [
      "\u001b[1m13/13\u001b[0m \u001b[32m━━━━━━━━━━━━━━━━━━━━\u001b[0m\u001b[37m\u001b[0m \u001b[1m3s\u001b[0m 191ms/step\n",
      "Confusion Matrix:\n",
      "[[8 0 0 ... 0 0 0]\n",
      " [0 8 0 ... 0 0 0]\n",
      " [0 0 3 ... 0 0 0]\n",
      " ...\n",
      " [0 0 0 ... 6 0 0]\n",
      " [0 0 0 ... 0 4 0]\n",
      " [0 0 0 ... 0 0 6]]\n",
      "\n",
      "Classification Report:\n",
      "                  precision    recall  f1-score   support\n",
      "\n",
      "             dog       0.73      1.00      0.84         8\n",
      "  chirping_birds       1.00      1.00      1.00         8\n",
      "  vacuum_cleaner       1.00      0.38      0.55         8\n",
      "    thunderstorm       0.89      1.00      0.94         8\n",
      " door_wood_knock       0.73      1.00      0.84         8\n",
      "     can_opening       0.80      0.50      0.62         8\n",
      "            crow       0.83      0.62      0.71         8\n",
      "        clapping       0.62      0.62      0.62         8\n",
      "       fireworks       1.00      0.88      0.93         8\n",
      "        chainsaw       0.88      0.88      0.88         8\n",
      "        airplane       0.86      0.75      0.80         8\n",
      "     mouse_click       0.83      0.62      0.71         8\n",
      "   pouring_water       0.71      0.62      0.67         8\n",
      "           train       0.86      0.75      0.80         8\n",
      "           sheep       1.00      0.88      0.93         8\n",
      "     water_drops       0.50      0.38      0.43         8\n",
      "    church_bells       0.50      0.62      0.56         8\n",
      "     clock_alarm       1.00      0.50      0.67         8\n",
      " keyboard_typing       0.67      1.00      0.80         8\n",
      "            wind       0.67      1.00      0.80         8\n",
      "       footsteps       0.80      1.00      0.89         8\n",
      "            frog       0.56      0.62      0.59         8\n",
      "             cow       1.00      0.88      0.93         8\n",
      "  brushing_teeth       0.33      0.50      0.40         8\n",
      "        car_horn       1.00      0.75      0.86         8\n",
      "  crackling_fire       0.42      0.62      0.50         8\n",
      "      helicopter       0.78      0.88      0.82         8\n",
      "drinking_sipping       1.00      0.62      0.77         8\n",
      "            rain       0.86      0.75      0.80         8\n",
      "         insects       0.40      0.25      0.31         8\n",
      "        laughing       1.00      0.75      0.86         8\n",
      "             hen       0.67      0.50      0.57         8\n",
      "          engine       0.55      0.75      0.63         8\n",
      "       breathing       0.50      0.25      0.33         8\n",
      "     crying_baby       0.58      0.88      0.70         8\n",
      "        hand_saw       0.57      0.50      0.53         8\n",
      "        coughing       0.62      0.62      0.62         8\n",
      "  glass_breaking       0.80      1.00      0.89         8\n",
      "         snoring       0.70      0.88      0.78         8\n",
      "    toilet_flush       0.62      0.62      0.62         8\n",
      "             pig       0.50      0.12      0.20         8\n",
      " washing_machine       1.00      0.75      0.86         8\n",
      "      clock_tick       0.67      0.75      0.71         8\n",
      "        sneezing       0.88      0.88      0.88         8\n",
      "         rooster       0.58      0.88      0.70         8\n",
      "       sea_waves       0.46      0.75      0.57         8\n",
      "           siren       0.75      0.75      0.75         8\n",
      "             cat       0.67      0.75      0.71         8\n",
      "door_wood_creaks       0.67      0.50      0.57         8\n",
      "        crickets       0.67      0.75      0.71         8\n",
      "\n",
      "        accuracy                           0.71       400\n",
      "       macro avg       0.73      0.71      0.70       400\n",
      "    weighted avg       0.73      0.71      0.70       400\n",
      "\n"
     ]
    }
   ],
   "source": [
    "# Reshape the spectrograms to match the input shape of the model\n",
    "X_test = X_test.reshape(-1, 128, 216, 1)\n",
    "\n",
    "# Predict labels for the test data\n",
    "y_pred = model.predict(X_test)\n",
    "\n",
    "# Get the predicted class indices\n",
    "y_pred_classes = np.argmax(y_pred, axis=1)\n",
    "\n",
    "# Generate confusion matrix\n",
    "conf_matrix = confusion_matrix(y_true, y_pred_classes)\n",
    "\n",
    "# Generate classification report\n",
    "class_report = classification_report(y_true, y_pred_classes, target_names=labels_dict.values())\n",
    "\n",
    "print(\"Confusion Matrix:\")\n",
    "print(conf_matrix)\n",
    "print(\"\\nClassification Report:\")\n",
    "print(class_report)\n"
   ]
  },
  {
   "cell_type": "code",
   "execution_count": 57,
   "metadata": {},
   "outputs": [
    {
     "data": {
      "text/plain": [
       "['label_encoder.joblib']"
      ]
     },
     "execution_count": 57,
     "metadata": {},
     "output_type": "execute_result"
    }
   ],
   "source": [
    "from sklearn.preprocessing import LabelEncoder\n",
    "import joblib\n",
    "\n",
    "# Labels dictionary\n",
    "labels_dict = {\n",
    "    0: 'dog', 14: 'chirping_birds', 36: 'vacuum_cleaner', 19: 'thunderstorm',\n",
    "    30: 'door_wood_knock', 34: 'can_opening', 9: 'crow', 22: 'clapping',\n",
    "    48: 'fireworks', 41: 'chainsaw', 47: 'airplane', 31: 'mouse_click',\n",
    "    17: 'pouring_water', 45: 'train', 8: 'sheep', 15: 'water_drops',\n",
    "    46: 'church_bells', 37: 'clock_alarm', 32: 'keyboard_typing', 16: 'wind',\n",
    "    25: 'footsteps', 4: 'frog', 3: 'cow', 27: 'brushing_teeth', 43: 'car_horn',\n",
    "    12: 'crackling_fire', 40: 'helicopter', 29: 'drinking_sipping', 10: 'rain',\n",
    "    7: 'insects', 26: 'laughing', 6: 'hen', 44: 'engine', 23: 'breathing',\n",
    "    20: 'crying_baby', 49: 'hand_saw', 24: 'coughing', 39: 'glass_breaking',\n",
    "    28: 'snoring', 18: 'toilet_flush', 2: 'pig', 35: 'washing_machine',\n",
    "    38: 'clock_tick', 21: 'sneezing', 1: 'rooster', 11: 'sea_waves', 42: 'siren',\n",
    "    5: 'cat', 33: 'door_wood_creaks', 13: 'crickets'\n",
    "}\n",
    "\n",
    "# Initialize label encoder\n",
    "label_encoder = LabelEncoder()\n",
    "\n",
    "# Fit label encoder and return encoded labels\n",
    "encoded_labels = label_encoder.fit_transform(list(labels_dict.values()))\n",
    "\n",
    "# Save the label encoder to a file\n",
    "joblib.dump(label_encoder, 'label_encoder.joblib')\n"
   ]
  },
  {
   "cell_type": "code",
   "execution_count": null,
   "metadata": {},
   "outputs": [],
   "source": [
    "from sklearn.preprocessing import LabelEncoder\n",
    "import joblib\n",
    "\n",
    "# Load the label encoder\n",
    "label_encoder = joblib.load('label_encoder.joblib')\n",
    "\n",
    "# Function to preprocess audio file into spectrogram\n",
    "def preprocess_audio_file(file_path):\n",
    "    # Load the audio file\n",
    "    y, sr = librosa.load(file_path)\n",
    "    # Generate mel spectrogram\n",
    "    melspec = librosa.feature.melspectrogram(y=y, sr=sr, n_fft=2048, hop_length=512, n_mels=128)\n",
    "    melspec = librosa.power_to_db(melspec, ref=np.max)\n",
    "    # Resize spectrogram to match the input shape of the model\n",
    "    shape = (1, melspec.shape[0], melspec.shape[1], 1)\n",
    "    melspec = np.resize(melspec, shape)\n",
    "    return melspec\n",
    "\n",
    "# Function to make predictions using the trained model\n",
    "def predict_with_model(model, file_path):\n",
    "    # Preprocess audio file\n",
    "    preprocessed_data = preprocess_audio_file(file_path)\n",
    "    # Make prediction using the trained model\n",
    "    prediction = model.predict(preprocessed_data)\n",
    "    # Get the predicted class index\n",
    "    predicted_class_index = np.argmax(prediction)\n",
    "    # Map the predicted class index to category using the label encoder\n",
    "    predicted_category = label_encoder.inverse_transform([predicted_class_index])[0]\n",
    "    return predicted_category\n",
    "\n",
    "# Load the trained model\n",
    "model = tf.keras.models.load_model(model_file_path)\n",
    "\n",
    "# Test the model with new data (e.g., output.wav)\n",
    "file_path = 'output.wav'\n",
    "predicted_category = predict_with_model(model, file_path)\n",
    "print(\"Predicted Category:\", predicted_category)\n"
   ]
  },
  {
   "cell_type": "code",
   "execution_count": null,
   "metadata": {},
   "outputs": [],
   "source": [
    "import numpy as np\n",
    "import librosa\n",
    "from tensorflow import keras\n",
    "import joblib\n",
    "import pickle\n",
    "from keras.models import load_model\n",
    "from sklearn.preprocessing import LabelEncoder\n",
    "import sys\n",
    "\n",
    "#replace with your path to the label\n",
    "labelencoder_src='label_encoder.joblib'\n",
    "#replace with your audio file path\n",
    "filename='1-12654-B-15.wav'\n",
    "\n",
    "# Load the trained model\n",
    "model_path = './model/experiment_2_model.keras'\n",
    "model = load_model(model_path)\n",
    "\n",
    "loaded_label_encoder = joblib.load(labelencoder_src)\n",
    "def features_extractor(file):\n",
    "    audio, sample_rate = librosa.load(file, res_type='kaiser_fast') \n",
    "    mel_spectrogram = librosa.feature.melspectrogram(y=audio, sr=sample_rate, n_fft=2048, hop_length=512, n_mels=128)\n",
    "    mel_spectrogram_db = librosa.power_to_db(mel_spectrogram, ref=np.max)\n",
    "    return mel_spectrogram_db\n",
    "\n",
    "# Example usage for prediction\n",
    "\n",
    "mel_spectrogram_db = features_extractor(filename)\n",
    "mel_spectrogram_db = mel_spectrogram_db.reshape(1, mel_spectrogram_db.shape[0], mel_spectrogram_db.shape[1], 1)\n",
    "\n",
    "# Make predictions\n",
    "raw_predictions = model.predict(mel_spectrogram_db)\n",
    "predicted_label = np.argmax(raw_predictions)\n",
    "\n",
    "print(\"Predicted Class:\", predicted_class)\n"
   ]
  },
  {
   "cell_type": "code",
   "execution_count": null,
   "metadata": {
    "id": "8yLgk6aST9gj"
   },
   "outputs": [],
   "source": [
    "def run_experiment(make_spec, augment=0):\n",
    "\n",
    "  images_train = np.array([make_spec(clip,sr) for clip in train_audio])\n",
    "  images_test =  np.array([make_spec(clip,sr) for clip in test_audio])\n",
    "\n",
    "  num_augmented = int(len(train_audio)*augment)\n",
    "  if augment:\n",
    "    #genreate augmented images from the first num_augmented clips and concatenate them to the train images\n",
    "    augmented_img = np.array([make_spec(audio_augment(samples=clip, sample_rate=sr),sr) for clip in train_audio[:num_augmented]])\n",
    "    images_train = np.concatenate((images_train, augmented_img))\n",
    "\n",
    "\n",
    "  #expected shape (num_examples, spec freq range, spec time, 1)\n",
    "  shape_train = (len(images_train), images_train[0].shape[0], images_train[0].shape[1], 1)\n",
    "  shape_test = (len(images_test), images_train[0].shape[0], images_train[0].shape[1], 1)\n",
    "  images_train = np.resize(images_train, shape_train)\n",
    "  images_test = np.resize(images_test, shape_test)\n",
    "\n",
    "  labels_train = np.array(train_labels+train_labels[:num_augmented])\n",
    "  labels_test = np.array(test_labels)\n",
    "\n",
    "  model = build_model(shape_train[1:])\n",
    "\n",
    "  model.summary()\n",
    "\n",
    "  history = model.fit(images_train, labels_train, epochs=40, validation_data=(images_test,labels_test), callbacks=[rlronp,estop])\n",
    "\n",
    "  return history, estop\n",
    "\n",
    "\n"
   ]
  },
  {
   "cell_type": "code",
   "execution_count": null,
   "metadata": {},
   "outputs": [],
   "source": [
    "import sounddevice as sd\n",
    "import soundfile as sf\n",
    "\n",
    "# Function to record audio\n",
    "def record_audio(output_file, duration, sample_rate=44100):\n",
    "    print(\"Recording audio...\")\n",
    "    audio_data = sd.rec(int(duration * sample_rate), samplerate=sample_rate, channels=1, dtype='float32')\n",
    "    sd.wait()\n",
    "    sf.write(output_file, audio_data, sample_rate)\n",
    "    print(f\"Audio recorded and saved to {output_file}\")\n",
    "\n",
    "# Recording duration in seconds\n",
    "record_duration = 5\n",
    "\n",
    "# Output file for recorded audio\n",
    "output_file = 'output_processed.wav'\n",
    "\n",
    "# Record audio\n",
    "record_audio(output_file, record_duration)"
   ]
  },
  {
   "cell_type": "code",
   "execution_count": null,
   "metadata": {},
   "outputs": [],
   "source": [
    "import librosa\n",
    "import numpy as np\n",
    "import tensorflow as tf\n",
    "\n",
    "# Load the trained model\n",
    "model_path = './model/experiment_2_model.h5'  # Replace with your model path\n",
    "model = tf.keras.models.load_model(model_path)\n",
    "\n",
    "# Load the recorded audio file\n",
    "output_file = 'output_processed.wav'  # Replace with your recorded audio file path\n",
    "y, sr = librosa.load(output_file, sr=None)\n",
    "\n",
    "# Generate mel spectrogram\n",
    "mel_spec = librosa.feature.melspectrogram(y=y, sr=sr, n_fft=2048, hop_length=512, n_mels=128)\n",
    "mel_spec_db = librosa.power_to_db(mel_spec, ref=np.max)\n",
    "mel_spec_input = mel_spec_db[np.newaxis, ..., np.newaxis]  # Add batch and channel dimension\n",
    "\n",
    "# Make prediction\n",
    "prediction = model.predict(mel_spec_input)\n",
    "\n",
    "# Get the predicted class index\n",
    "predicted_class_index = np.argmax(prediction)\n",
    "\n",
    "# Display the predicted class index\n",
    "print(f\"Predicted Class Index: {predicted_class_index}\")\n"
   ]
  }
 ],
 "metadata": {
  "accelerator": "GPU",
  "colab": {
   "machine_shape": "hm",
   "provenance": []
  },
  "gpuClass": "premium",
  "kernelspec": {
   "display_name": "Python 3 (ipykernel)",
   "language": "python",
   "name": "python3"
  },
  "language_info": {
   "codemirror_mode": {
    "name": "ipython",
    "version": 3
   },
   "file_extension": ".py",
   "mimetype": "text/x-python",
   "name": "python",
   "nbconvert_exporter": "python",
   "pygments_lexer": "ipython3",
   "version": "3.10.13"
  }
 },
 "nbformat": 4,
 "nbformat_minor": 1
}
